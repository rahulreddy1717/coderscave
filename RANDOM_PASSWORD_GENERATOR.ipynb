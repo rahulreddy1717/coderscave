{
  "nbformat": 4,
  "nbformat_minor": 0,
  "metadata": {
    "colab": {
      "provenance": []
    },
    "kernelspec": {
      "name": "python3",
      "display_name": "Python 3"
    },
    "language_info": {
      "name": "python"
    }
  },
  "cells": [
    {
      "cell_type": "markdown",
      "source": [
        "PHASE-1\n",
        "GOLDDEN TASK\n",
        "RANDOM PASSWORD GENERATOR"
      ],
      "metadata": {
        "id": "H2I-4wrJ1L3_"
      }
    },
    {
      "cell_type": "code",
      "source": [
        "import secrets\n",
        "import string\n",
        "\n",
        "def generate_password(length=12, uppercase=True, lowercase=True, digits=True, symbols=True, special_requirements=[]):\n",
        "    characters = \"\"\n",
        "\n",
        "    if uppercase:\n",
        "        characters += string.ascii_uppercase\n",
        "    if lowercase:\n",
        "        characters += string.ascii_lowercase\n",
        "    if digits:\n",
        "        characters += string.digits\n",
        "    if symbols:\n",
        "        characters += string.punctuation\n",
        "\n",
        "    for requirement in special_requirements:\n",
        "        characters += requirement\n",
        "\n",
        "    if not characters:\n",
        "        print(\"Please enable at least one character type.\")\n",
        "        return\n",
        "\n",
        "    password = ''.join(secrets.choice(characters) for _ in range(length))\n",
        "    return password\n",
        "\n",
        "def main():\n",
        "    print(\"Random Password Generator\")\n",
        "\n",
        "    length = int(input(\"Enter password length: \"))\n",
        "    uppercase = input(\"Include uppercase letters? (yes/no): \").lower() == 'yes'\n",
        "    lowercase = input(\"Include lowercase letters? (yes/no): \").lower() == 'yes'\n",
        "    digits = input(\"Include digits? (yes/no): \").lower() == 'yes'\n",
        "    symbols = input(\"Include symbols? (yes/no): \").lower() == 'yes'\n",
        "\n",
        "    special_requirements = input(\"Enter any additional characters you want to include (if any): \")\n",
        "\n",
        "    password = generate_password(length, uppercase, lowercase, digits, symbols, special_requirements)\n",
        "    print(f\"Generated Password: {password}\")\n",
        "\n",
        "if __name__ == \"__main__\":\n",
        "    main()"
      ],
      "metadata": {
        "colab": {
          "base_uri": "https://localhost:8080/"
        },
        "id": "EILXEZBt1bTO",
        "outputId": "cc3f71e5-ba0e-4c5b-ed32-cd57fc696d23"
      },
      "execution_count": 3,
      "outputs": [
        {
          "output_type": "stream",
          "name": "stdout",
          "text": [
            "Random Password Generator\n",
            "Enter password length: 5\n",
            "Include uppercase letters? (yes/no): YRS\n",
            "Include lowercase letters? (yes/no): NO\n",
            "Include digits? (yes/no): YES\n",
            "Include symbols? (yes/no): YES\n",
            "Enter any additional characters you want to include (if any): @\n",
            "Generated Password: =]!*~\n"
          ]
        }
      ]
    }
  ]
}