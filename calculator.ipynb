{
  "nbformat": 4,
  "nbformat_minor": 0,
  "metadata": {
    "colab": {
      "provenance": []
    },
    "kernelspec": {
      "name": "python3",
      "display_name": "Python 3"
    },
    "language_info": {
      "name": "python"
    }
  },
  "cells": [
    {
      "cell_type": "markdown",
      "source": [
        " PHASE-1\n",
        " TASK-1\n",
        "CALCULATOR\n",
        "\n",
        "\n"
      ],
      "metadata": {
        "id": "xvM1wUbU0VHZ"
      }
    },
    {
      "cell_type": "code",
      "source": [
        "def add(x, y):\n",
        "    return x + y\n",
        "\n",
        "def subtract(x, y):\n",
        "    return x - y\n",
        "\n",
        "def multiply(x, y):\n",
        "    return x * y\n",
        "\n",
        "def divide(x, y):\n",
        "    if y != 0:\n",
        "        return x / y\n",
        "    else:\n",
        "        return \"Cannot divide by zero\"\n",
        "\n",
        "def calculator():\n",
        "    print(\"Simple Calculator\")\n",
        "    print(\"Select operation:\")\n",
        "    print(\"1. Add\")\n",
        "    print(\"2. Subtract\")\n",
        "    print(\"3. Multiply\")\n",
        "    print(\"4. Divide\")\n",
        "\n",
        "    choice = input(\"Enter choice (1/2/3/4): \")\n",
        "\n",
        "    if choice not in ('1', '2', '3', '4'):\n",
        "        print(\"Invalid Input\")\n",
        "        return\n",
        "\n",
        "    num1 = float(input(\"Enter first number: \"))\n",
        "    num2 = float(input(\"Enter second number: \"))\n",
        "\n",
        "    if choice == '1':\n",
        "        result = add(num1, num2)\n",
        "        print(f\"{num1} + {num2} = {result}\")\n",
        "    elif choice == '2':\n",
        "        result = subtract(num1, num2)\n",
        "        print(f\"{num1} - {num2} = {result}\")\n",
        "    elif choice == '3':\n",
        "        result = multiply(num1, num2)\n",
        "        print(f\"{num1} * {num2} = {result}\")\n",
        "    elif choice == '4':\n",
        "        result = divide(num1, num2)\n",
        "        print(f\"{num1} / {num2} = {result}\")\n",
        "\n",
        "if __name__ == \"__main__\":\n",
        "    calculator()\n"
      ],
      "metadata": {
        "colab": {
          "base_uri": "https://localhost:8080/"
        },
        "id": "klTmMpVM03Yz",
        "outputId": "c5431ddc-4431-406c-b55d-55c5a3390a6a"
      },
      "execution_count": 11,
      "outputs": [
        {
          "output_type": "stream",
          "name": "stdout",
          "text": [
            "Simple Calculator\n",
            "Select operation:\n",
            "1. Add\n",
            "2. Subtract\n",
            "3. Multiply\n",
            "4. Divide\n",
            "Enter choice (1/2/3/4): 3\n",
            "Enter first number: 25\n",
            "Enter second number: 22\n",
            "25.0 * 22.0 = 550.0\n"
          ]
        }
      ]
    }
  ]
}